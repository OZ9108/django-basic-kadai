{
  "nbformat": 4,
  "nbformat_minor": 0,
  "metadata": {
    "colab": {
      "provenance": []
    },
    "kernelspec": {
      "name": "python3",
      "display_name": "Python 3"
    },
    "language_info": {
      "name": "python"
    }
  },
  "cells": [
    {
      "cell_type": "code",
      "execution_count": 6,
      "metadata": {
        "colab": {
          "base_uri": "https://localhost:8080/"
        },
        "id": "RfWuhD5kLyzd",
        "outputId": "dd3a33be-542b-4512-92a6-ef1bcf1db11a"
      },
      "outputs": [
        {
          "output_type": "stream",
          "name": "stdout",
          "text": [
            "75.0cm²\n"
          ]
        }
      ],
      "source": [
        "top_side=10\n",
        "under_side=20\n",
        "height=5\n",
        "\n",
        "trapezoid_area=((top_side)+(under_side))*(height)/2\n",
        "print(f\"{trapezoid_area}cm²\")\n"
      ]
    }
  ]
}