{
  "nbformat": 4,
  "nbformat_minor": 0,
  "metadata": {
    "colab": {
      "provenance": []
    },
    "kernelspec": {
      "name": "python3",
      "display_name": "Python 3"
    },
    "language_info": {
      "name": "python"
    }
  },
  "cells": [
    {
      "cell_type": "code",
      "execution_count": 1,
      "metadata": {
        "colab": {
          "base_uri": "https://localhost:8080/"
        },
        "id": "RfWuhD5kLyzd",
        "outputId": "5002c66d-8d20-4a4d-b249-22ad996b02f6"
      },
      "outputs": [
        {
          "output_type": "stream",
          "name": "stdout",
          "text": [
            "500.0\n"
          ]
        }
      ],
      "source": [
        "top_side=10\n",
        "under_side=20\n",
        "height=5\n",
        "\n",
        "trapezoid_area=(top_side)*(under_side)*(height)/2\n",
        "print(trapezoid_area)\n"
      ]
    }
  ]
}