{
  "nbformat": 4,
  "nbformat_minor": 0,
  "metadata": {
    "colab": {
      "provenance": []
    },
    "kernelspec": {
      "name": "python3",
      "display_name": "Python 3"
    },
    "language_info": {
      "name": "python"
    }
  },
  "cells": [
    {
      "cell_type": "code",
      "execution_count": 3,
      "metadata": {
        "colab": {
          "base_uri": "https://localhost:8080/"
        },
        "id": "RfWuhD5kLyzd",
        "outputId": "0da9f192-56dc-4c7a-8a32-6af8c7c1da25"
      },
      "outputs": [
        {
          "output_type": "stream",
          "name": "stdout",
          "text": [
            "75.0cm2\n"
          ]
        }
      ],
      "source": [
        "top_side=10\n",
        "under_side=20\n",
        "height=5\n",
        "\n",
        "trapezoid_area=((top_side)+(under_side))*(height)/2\n",
        "print(f\"{trapezoid_area}cm2\")\n"
      ]
    }
  ]
}