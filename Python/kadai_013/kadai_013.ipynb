{
  "nbformat": 4,
  "nbformat_minor": 0,
  "metadata": {
    "colab": {
      "provenance": []
    },
    "kernelspec": {
      "name": "python3",
      "display_name": "Python 3"
    },
    "language_info": {
      "name": "python"
    }
  },
  "cells": [
    {
      "cell_type": "code",
      "execution_count": 8,
      "metadata": {
        "colab": {
          "base_uri": "https://localhost:8080/"
        },
        "id": "KLHwI_y36nrf",
        "outputId": "58923249-9b30-4b33-912f-2b765f1ae565"
      },
      "outputs": [
        {
          "output_type": "stream",
          "name": "stdout",
          "text": [
            "121.00000000000001\n"
          ]
        }
      ],
      "source": [
        "def add_tax(price,tax):\n",
        "   tax=10\n",
        "   print(price*(1+(tax/100)))\n",
        "\n",
        "add_tax(110,10)"
      ]
    }
  ]
}