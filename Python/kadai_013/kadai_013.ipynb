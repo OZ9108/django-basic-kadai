{
  "nbformat": 4,
  "nbformat_minor": 0,
  "metadata": {
    "colab": {
      "provenance": []
    },
    "kernelspec": {
      "name": "python3",
      "display_name": "Python 3"
    },
    "language_info": {
      "name": "python"
    }
  },
  "cells": [
    {
      "cell_type": "code",
      "execution_count": 10,
      "metadata": {
        "colab": {
          "base_uri": "https://localhost:8080/"
        },
        "id": "KLHwI_y36nrf",
        "outputId": "492243aa-976f-485f-9b6d-3b38d1aaaab9"
      },
      "outputs": [
        {
          "output_type": "execute_result",
          "data": {
            "text/plain": [
              "121.00000000000001"
            ]
          },
          "metadata": {},
          "execution_count": 10
        }
      ],
      "source": [
        "def add_tax(price,tax):\n",
        "   return(price*(1+(tax/100)))\n",
        "\n",
        "add_tax(110,10)"
      ]
    }
  ]
}