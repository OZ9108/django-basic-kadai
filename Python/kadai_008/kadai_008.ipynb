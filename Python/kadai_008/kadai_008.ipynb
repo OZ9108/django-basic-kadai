{
  "nbformat": 4,
  "nbformat_minor": 0,
  "metadata": {
    "colab": {
      "provenance": []
    },
    "kernelspec": {
      "name": "python3",
      "display_name": "Python 3"
    },
    "language_info": {
      "name": "python"
    }
  },
  "cells": [
    {
      "cell_type": "code",
      "execution_count": 21,
      "metadata": {
        "colab": {
          "base_uri": "https://localhost:8080/"
        },
        "id": "FGWsNdBSmQwy",
        "outputId": "e30c7da2-5ae8-4ba1-b264-dae1c6902f19"
      },
      "outputs": [
        {
          "output_type": "stream",
          "name": "stdout",
          "text": [
            "FizzBuzz\n"
          ]
        }
      ],
      "source": [
        "import random\n",
        "var=random.randint(1,100)\n",
        "if var%3==0 and var%5==0:\n",
        "  print('FizzBuzz')\n",
        "elif var%3==0:\n",
        "  print('Fizz')\n",
        "elif var%5==0:\n",
        "  print('Buzz')\n",
        "else:\n",
        "  print(var)"
      ]
    }
  ]
}