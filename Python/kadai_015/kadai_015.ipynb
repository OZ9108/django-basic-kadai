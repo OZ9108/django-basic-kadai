{
  "nbformat": 4,
  "nbformat_minor": 0,
  "metadata": {
    "colab": {
      "provenance": []
    },
    "kernelspec": {
      "name": "python3",
      "display_name": "Python 3"
    },
    "language_info": {
      "name": "python"
    }
  },
  "cells": [
    {
      "cell_type": "code",
      "execution_count": 6,
      "metadata": {
        "colab": {
          "base_uri": "https://localhost:8080/"
        },
        "id": "tJXzJ3LGqMP_",
        "outputId": "8a6d1227-ef81-4227-e42c-f00c1d57c718"
      },
      "outputs": [
        {
          "output_type": "stream",
          "name": "stdout",
          "text": [
            "名前はsuzukiです\n",
            "18歳です。\n"
          ]
        }
      ],
      "source": [
        "class Human:\n",
        "  def __init__(self,name,age):\n",
        "    self.name=name\n",
        "    self.age=age\n",
        "  def printinfo(self):\n",
        "    print(f\"名前は{self.name}です\")\n",
        "    print(f\"{self.age}歳です。\")\n",
        "\n",
        "user = Human(\"suzuki\", 18)\n",
        "user.printinfo()"
      ]
    }
  ]
}