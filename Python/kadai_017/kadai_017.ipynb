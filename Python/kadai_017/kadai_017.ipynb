{
  "nbformat": 4,
  "nbformat_minor": 0,
  "metadata": {
    "colab": {
      "provenance": []
    },
    "kernelspec": {
      "name": "python3",
      "display_name": "Python 3"
    },
    "language_info": {
      "name": "python"
    }
  },
  "cells": [
    {
      "cell_type": "code",
      "execution_count": 8,
      "metadata": {
        "colab": {
          "base_uri": "https://localhost:8080/"
        },
        "id": "WMVT-D65Agtc",
        "outputId": "0aafbd61-d272-468b-bd53-fad5b02e8c10"
      },
      "outputs": [
        {
          "output_type": "stream",
          "name": "stdout",
          "text": [
            "森田は大人です\n",
            "鈴木は大人ではありません。\n",
            "高橋は大人です\n"
          ]
        }
      ],
      "source": [
        "class Human:\n",
        "  def __init__(self, name, age):\n",
        "    self.name=name\n",
        "    self.age=age\n",
        "  def check_adult(self):\n",
        "    if self.age>=20:\n",
        "      print(f\"{self.name}は大人です\")\n",
        "    else:\n",
        "      print(f\"{self.name}は大人ではありません。\")\n",
        "\n",
        "humans=[]\n",
        "\n",
        "human1=Human(\"森田\",20)\n",
        "humans.append(human1)\n",
        "\n",
        "human2=Human(\"鈴木\",18)\n",
        "humans.append(human2)\n",
        "\n",
        "human3=Human(\"高橋\",31)\n",
        "humans.append(human3)\n",
        "\n",
        "for i in range(len(humans)):\n",
        "  humans[i].check_adult()"
      ]
    }
  ]
}