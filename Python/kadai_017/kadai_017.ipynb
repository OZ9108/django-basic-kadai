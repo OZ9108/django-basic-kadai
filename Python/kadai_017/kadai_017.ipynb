{
  "nbformat": 4,
  "nbformat_minor": 0,
  "metadata": {
    "colab": {
      "provenance": []
    },
    "kernelspec": {
      "name": "python3",
      "display_name": "Python 3"
    },
    "language_info": {
      "name": "python"
    }
  },
  "cells": [
    {
      "cell_type": "code",
      "execution_count": 6,
      "metadata": {
        "colab": {
          "base_uri": "https://localhost:8080/"
        },
        "id": "WMVT-D65Agtc",
        "outputId": "ce1ac690-114a-40a3-b7c2-bfc501cc147f"
      },
      "outputs": [
        {
          "output_type": "stream",
          "name": "stdout",
          "text": [
            "森田は大人です\n",
            "鈴木は大人ではありません。\n"
          ]
        }
      ],
      "source": [
        "class Human:\n",
        "  def __init__(self, name, age):\n",
        "    self.name=name\n",
        "    self.age=age\n",
        "  def check_adult(self):\n",
        "    if self.age>=20:\n",
        "      print(f\"{self.name}は大人です\")\n",
        "    else:\n",
        "      print(f\"{self.name}は大人ではありません。\")\n",
        "\n",
        "human1=Human(\"森田\",20)\n",
        "human2=Human(\"鈴木\",18)\n",
        "human1.check_adult()\n",
        "human2.check_adult()"
      ]
    }
  ]
}